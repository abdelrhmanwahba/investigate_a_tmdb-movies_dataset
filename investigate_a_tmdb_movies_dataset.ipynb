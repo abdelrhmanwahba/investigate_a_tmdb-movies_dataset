{
  "nbformat": 4,
  "nbformat_minor": 0,
  "metadata": {
    "kernelspec": {
      "display_name": "Python [default]",
      "language": "python",
      "name": "python3"
    },
    "language_info": {
      "codemirror_mode": {
        "name": "ipython",
        "version": 3
      },
      "file_extension": ".py",
      "mimetype": "text/x-python",
      "name": "python",
      "nbconvert_exporter": "python",
      "pygments_lexer": "ipython3",
      "version": "3.5.3"
    },
    "colab": {
      "name": "investigate_a_tmdb-movies_dataset.ipynb",
      "provenance": [],
      "collapsed_sections": [],
      "include_colab_link": true
    }
  },
  "cells": [
    {
      "cell_type": "markdown",
      "metadata": {
        "id": "view-in-github",
        "colab_type": "text"
      },
      "source": [
        "<a href=\"https://colab.research.google.com/github/abdelrhmanwahba/investigate_a_tmdb-movies_dataset/blob/main/investigate_a_tmdb_movies_dataset.ipynb\" target=\"_parent\"><img src=\"https://colab.research.google.com/assets/colab-badge.svg\" alt=\"Open In Colab\"/></a>"
      ]
    },
    {
      "cell_type": "markdown",
      "metadata": {
        "id": "8bLT0kJhGvwA"
      },
      "source": [
        "# Project: Investigate tmdb-movies dataset.\n",
        "\n",
        "## Table of Contents\n",
        "<ul>\n",
        "<li><a href=\"#intro\">Introduction</a></li>\n",
        "<li><a href=\"#wrangling\">Data Wrangling</a></li>\n",
        "<li><a href=\"#eda\">Exploratory Data Analysis</a></li>\n",
        "<li><a href=\"#conclusions\">Conclusions</a></li>\n",
        "</ul>"
      ]
    },
    {
      "cell_type": "markdown",
      "metadata": {
        "id": "TQ1BvME4GvwG"
      },
      "source": [
        "<a id='intro'></a>\n",
        "## Introduction\n",
        "\n"
      ]
    },
    {
      "cell_type": "markdown",
      "metadata": {
        "id": "jWyaW1eC_0y1"
      },
      "source": [
        "This dataset was taken from The Movie Database (TMDb), \"a community built movie and TV database.\" (www.themoviedb.org/about) Each\n",
        "row corresponds to a movie and includes a range of data about each film. Relevant data to be used in the following analysis include the\n",
        "following variables:\n",
        "- original title\n",
        "- genres\n",
        "- runtime\n",
        "- budget_adj (budget in terms of 2010 dollars)\n",
        "- revenue_adj (revenue in terms of 2010 dollars)\n",
        "In this report, I explore the following questions:\n",
        "1. Does runtime related to votes?\n",
        "2. which genre has most poopurality?\n",
        "3. which genre has most profit?\n"
      ]
    },
    {
      "cell_type": "code",
      "metadata": {
        "collapsed": true,
        "id": "C8HPCN76GvwI"
      },
      "source": [
        "#importing needed libraries \n",
        "import pandas as pd\n",
        "import numpy as np\n",
        "% matplotlib inline\n",
        "import matplotlib.pyplot as plt\n"
      ],
      "execution_count": null,
      "outputs": []
    },
    {
      "cell_type": "code",
      "metadata": {
        "collapsed": true,
        "id": "iU_xvX59GvwJ"
      },
      "source": [
        "#loadding dataset\n",
        "df = pd.read_csv('/content/drive/MyDrive/fwd/project2/tmdb-movies.csv')"
      ],
      "execution_count": null,
      "outputs": []
    },
    {
      "cell_type": "code",
      "metadata": {
        "colab": {
          "base_uri": "https://localhost:8080/"
        },
        "id": "-3_daDGmCdHu",
        "outputId": "083fbc29-75f7-46a1-c8ff-f733e269b825"
      },
      "source": [
        "df.columns"
      ],
      "execution_count": null,
      "outputs": [
        {
          "output_type": "execute_result",
          "data": {
            "text/plain": [
              "Index(['id', 'imdb_id', 'popularity', 'budget', 'revenue', 'original_title',\n",
              "       'cast', 'homepage', 'director', 'tagline', 'keywords', 'overview',\n",
              "       'runtime', 'genres', 'production_companies', 'release_date',\n",
              "       'vote_count', 'vote_average', 'release_year', 'budget_adj',\n",
              "       'revenue_adj', 'RunTime_level'],\n",
              "      dtype='object')"
            ]
          },
          "metadata": {
            "tags": []
          },
          "execution_count": 17
        }
      ]
    },
    {
      "cell_type": "markdown",
      "metadata": {
        "id": "OZyt69pLGvwJ"
      },
      "source": [
        "<a id='wrangling'></a>\n",
        "## Data Wrangling\n",
        "\n"
      ]
    },
    {
      "cell_type": "markdown",
      "metadata": {
        "id": "yR_nMLDR2TyZ"
      },
      "source": [
        "Now that my data is loaded, I'll make the following changes:\n",
        "\n",
        "*   exploring and dealing with missing values\n",
        "*   exploring and removing  duplicated  values\n",
        "*   split the multivalue field \"genre\" into multi rows for more valuable insights.\n",
        "* create new column for runtime, to classfy movie based on duaration : long, med, short \n",
        "\n",
        "\n",
        "\n"
      ]
    },
    {
      "cell_type": "markdown",
      "metadata": {
        "id": "NXBOahlN6kRv"
      },
      "source": [
        "**exploring and removing  missed  values**"
      ]
    },
    {
      "cell_type": "code",
      "metadata": {
        "colab": {
          "base_uri": "https://localhost:8080/"
        },
        "id": "Age-wdnZA731",
        "outputId": "11aec105-6fcd-4cd3-9e9d-ea99f891f514"
      },
      "source": [
        "df.isna().sum()"
      ],
      "execution_count": null,
      "outputs": [
        {
          "output_type": "execute_result",
          "data": {
            "text/plain": [
              "id                         0\n",
              "imdb_id                   10\n",
              "popularity                 0\n",
              "budget                     0\n",
              "revenue                    0\n",
              "original_title             0\n",
              "cast                      76\n",
              "homepage                7930\n",
              "director                  44\n",
              "tagline                 2824\n",
              "keywords                1493\n",
              "overview                   4\n",
              "runtime                    0\n",
              "genres                    23\n",
              "production_companies    1030\n",
              "release_date               0\n",
              "vote_count                 0\n",
              "vote_average               0\n",
              "release_year               0\n",
              "budget_adj                 0\n",
              "revenue_adj                0\n",
              "dtype: int64"
            ]
          },
          "metadata": {
            "tags": []
          },
          "execution_count": 3
        }
      ]
    },
    {
      "cell_type": "code",
      "metadata": {
        "id": "GuAnVevW5hOR"
      },
      "source": [
        "df['genres'].dropna(inplace=True)"
      ],
      "execution_count": null,
      "outputs": []
    },
    {
      "cell_type": "markdown",
      "metadata": {
        "id": "x0ZhPvep9F8H"
      },
      "source": [
        "I dropped the missing values in **'genres'** column only , since this is the colmun i intersted in ,in this analysis"
      ]
    },
    {
      "cell_type": "markdown",
      "metadata": {
        "id": "a-5OoYiI60-t"
      },
      "source": [
        "**exploring and removing  duplicated  values**"
      ]
    },
    {
      "cell_type": "code",
      "metadata": {
        "colab": {
          "base_uri": "https://localhost:8080/"
        },
        "id": "qF3QqsJnmwSU",
        "outputId": "c868cb1d-9b50-4f44-fc9a-d2f3ceecdb86"
      },
      "source": [
        "df.duplicated().sum()"
      ],
      "execution_count": null,
      "outputs": [
        {
          "output_type": "execute_result",
          "data": {
            "text/plain": [
              "1"
            ]
          },
          "metadata": {
            "tags": []
          },
          "execution_count": 5
        }
      ]
    },
    {
      "cell_type": "code",
      "metadata": {
        "id": "oCY8PB0C9cKq"
      },
      "source": [
        "df.drop_duplicates(inplace=True)"
      ],
      "execution_count": null,
      "outputs": []
    },
    {
      "cell_type": "markdown",
      "metadata": {
        "id": "qPIH6AJun5G6"
      },
      "source": [
        "**split genres to extract more information**"
      ]
    },
    {
      "cell_type": "code",
      "metadata": {
        "id": "6u68twTcn3w9"
      },
      "source": [
        "# get all columns except genres\n",
        "no_genres = df.columns.drop('genres').to_list()\n",
        "\n",
        "#split genres to another rows\n",
        "genre_split = df.set_index(no_genres).apply(lambda x: x.str.split('|').explode()).reset_index()"
      ],
      "execution_count": null,
      "outputs": []
    },
    {
      "cell_type": "code",
      "metadata": {
        "colab": {
          "base_uri": "https://localhost:8080/"
        },
        "id": "N_BNBGqdpBJk",
        "outputId": "171568f7-02cf-43ae-f031-ab60516fe1be"
      },
      "source": [
        "# now genre column has been splited and can extract more info\n",
        "genre_split['genres'].value_counts()"
      ],
      "execution_count": null,
      "outputs": [
        {
          "output_type": "execute_result",
          "data": {
            "text/plain": [
              "Drama              4760\n",
              "Comedy             3793\n",
              "Thriller           2907\n",
              "Action             2384\n",
              "Romance            1712\n",
              "Horror             1637\n",
              "Adventure          1471\n",
              "Crime              1354\n",
              "Family             1231\n",
              "Science Fiction    1229\n",
              "Fantasy             916\n",
              "Mystery             810\n",
              "Animation           699\n",
              "Documentary         520\n",
              "Music               408\n",
              "History             334\n",
              "War                 270\n",
              "Foreign             188\n",
              "TV Movie            167\n",
              "Western             165\n",
              "Name: genres, dtype: int64"
            ]
          },
          "metadata": {
            "tags": []
          },
          "execution_count": 8
        }
      ]
    },
    {
      "cell_type": "markdown",
      "metadata": {
        "id": "fxkcQ1hZ7eN9"
      },
      "source": [
        "now we have another dataframe \"genre_split\" that contains each genre in row "
      ]
    },
    {
      "cell_type": "markdown",
      "metadata": {
        "id": "_TxmKy5oDHBT"
      },
      "source": [
        "**create new column for runtime, to classfy movie based on duaration : long, med, short**\n"
      ]
    },
    {
      "cell_type": "code",
      "metadata": {
        "collapsed": true,
        "id": "-JzrUAzeGvwN"
      },
      "source": [
        "#get median of runtime\n",
        "rt_median = df['runtime'].median()\n",
        "# add 'duration_level' column to indicate level of runtime\n",
        "# the values will be [ long > rt_median , med == rt_median , short < rt_median]\n",
        "df.insert(len(df.columns),'RunTime_level',df['runtime'].apply(lambda x : 'long' if x > rt_median else ('med' if x == rt_median else 'short')))\n"
      ],
      "execution_count": null,
      "outputs": []
    },
    {
      "cell_type": "markdown",
      "metadata": {
        "id": "YP9FOHnMGvwM"
      },
      "source": [
        "<a id='eda'></a>\n",
        "## Exploratory Data Analysis\n",
        "\n",
        "\n",
        "\n",
        "### Research Question 1 (Does runtime related to votes!)"
      ]
    },
    {
      "cell_type": "code",
      "metadata": {
        "colab": {
          "base_uri": "https://localhost:8080/",
          "height": 326
        },
        "id": "FsUkD4wTqep-",
        "outputId": "49b2f52f-493a-4555-fb1d-a9a9870d25cf"
      },
      "source": [
        "colors = ['red','green','blue']\n",
        "df.groupby('RunTime_level')['vote_count'].mean().plot(kind = 'bar',color=colors);\n",
        "plt.xlabel('runtime_level',fontsize=20);\n",
        "plt.ylabel('vote_avearage',fontsize=20);\n",
        "plt.title('\"vote-rntime\" before counting votes',fontsize=20);"
      ],
      "execution_count": null,
      "outputs": [
        {
          "output_type": "display_data",
          "data": {
            "image/png": "[encoded data removed]",
            "text/plain": [
              "<Figure size 432x288 with 1 Axes>"
            ]
          },
          "metadata": {
            "tags": [],
            "needs_background": "light"
          }
        }
      ]
    },
    {
      "cell_type": "markdown",
      "metadata": {
        "id": "8Q-FTA-9rWHH"
      },
      "source": [
        "as we can see the number of votes is not the same for each level of runtime(duration), so we need to calcuale the ratio between vote_count and vote_avearage"
      ]
    },
    {
      "cell_type": "code",
      "metadata": {
        "id": "-nKL0QtaqS_P"
      },
      "source": [
        "# get the ratio between vote_count and vote_avearage for each level\n",
        "votes= df.groupby('RunTime_level')['vote_average'].mean() / df.groupby('RunTime_level')['vote_count'].mean()"
      ],
      "execution_count": null,
      "outputs": []
    },
    {
      "cell_type": "code",
      "metadata": {
        "colab": {
          "base_uri": "https://localhost:8080/",
          "height": 326
        },
        "id": "AFp40lNqr5ue",
        "outputId": "f7911587-dd91-477c-d474-0fda40d2f78e"
      },
      "source": [
        "#plot the ratio between each runtime_level and vote_avearage\n",
        "votes.plot(kind='bar',color=['red','green','blue']);\n",
        "plt.xlabel('runtime_level',fontsize=20)\n",
        "plt.ylabel('vote_avearage',fontsize=20)\n",
        "plt.title('\"vote-rntime\" after counting votes',fontsize=20);"
      ],
      "execution_count": null,
      "outputs": [
        {
          "output_type": "display_data",
          "data": {
            "image/png": "[encoded data removed]",
            "text/plain": [
              "<Figure size 432x288 with 1 Axes>"
            ]
          },
          "metadata": {
            "tags": [],
            "needs_background": "light"
          }
        }
      ]
    },
    {
      "cell_type": "markdown",
      "metadata": {
        "id": "LJ4g6Ip8x5OC"
      },
      "source": [
        "as we can see after considering the **counts** of votes for each runtime_level , the graph was inversed"
      ]
    },
    {
      "cell_type": "code",
      "metadata": {
        "colab": {
          "base_uri": "https://localhost:8080/",
          "height": 305
        },
        "id": "T4P-H3xzxcpX",
        "outputId": "ed4d373c-a96d-4679-fa4c-09a8a6b4d130"
      },
      "source": [
        "# draw th relation between  runtime and vote_avearage\n",
        "plt.plot(df.groupby('RunTime_level')['runtime'].mean(),votes,'-o');\n",
        "plt.xlabel('Runtime',fontsize=15);\n",
        "plt.ylabel('Vote_avearage',fontsize=15);\n",
        "plt.title('corelation between runtime and vote',fontsize=20)\n",
        "plt.show()"
      ],
      "execution_count": null,
      "outputs": [
        {
          "output_type": "display_data",
          "data": {
            "image/png": "[encoded data removed]",
            "text/plain": [
              "<Figure size 432x288 with 1 Axes>"
            ]
          },
          "metadata": {
            "tags": [],
            "needs_background": "light"
          }
        }
      ]
    },
    {
      "cell_type": "markdown",
      "metadata": {
        "id": "W_IbN2dhyP-Z"
      },
      "source": [
        "and this graph Confirms our findings above, that is **negative** corelatuin between **level of runtime and average of votes** for the movie,\n",
        "as long duration movies got lowst votes, but the short movies got the highst"
      ]
    },
    {
      "cell_type": "markdown",
      "metadata": {
        "id": "igkTMNpnGvwN"
      },
      "source": [
        "\n",
        "### Research Question 2  (which genre has most poopurality)"
      ]
    },
    {
      "cell_type": "code",
      "metadata": {
        "collapsed": true,
        "id": "Saw7U8lUGvwO",
        "colab": {
          "base_uri": "https://localhost:8080/",
          "height": 370
        },
        "outputId": "18c8187c-7949-4e4f-af6f-2c970fa998ee"
      },
      "source": [
        "#draw bar chart for popularity of genres        \n",
        "popularity = genre_split.groupby('genres')['popularity'].mean()\n",
        "popularity.sort_values(ascending=False).plot(kind='bar');\n",
        "plt.xlabel('genres',fontsize=15);\n",
        "plt.ylabel('popularity',fontsize=15);\n",
        "plt.title('Popularity of Genres',fontsize=20)\n",
        "plt.show()"
      ],
      "execution_count": null,
      "outputs": [
        {
          "output_type": "display_data",
          "data": {
            "image/png": "[encoded data removed]",
            "text/plain": [
              "<Figure size 432x288 with 1 Axes>"
            ]
          },
          "metadata": {
            "tags": [],
            "needs_background": "light"
          }
        }
      ]
    },
    {
      "cell_type": "markdown",
      "metadata": {
        "id": "rHZz5QWuxhC8"
      },
      "source": [
        "this plot shows us that: \n",
        "**adventure** movies is the most popular "
      ]
    },
    {
      "cell_type": "markdown",
      "metadata": {
        "id": "7l4Dv1fi9eXz"
      },
      "source": [
        "### Question 3  (which genre has most profit)"
      ]
    },
    {
      "cell_type": "code",
      "metadata": {
        "id": "TCgEJUvvux_5"
      },
      "source": [
        "#get the mean profit for each genre\n",
        "profit=genre_split.groupby('genres')['revenue'].mean() - genre_split.groupby('genres')['budget'].mean()"
      ],
      "execution_count": null,
      "outputs": []
    },
    {
      "cell_type": "code",
      "metadata": {
        "colab": {
          "base_uri": "https://localhost:8080/",
          "height": 370
        },
        "id": "WDR6sejovnb2",
        "outputId": "3459f9b9-f279-4106-caa4-9d35eea76660"
      },
      "source": [
        "#draw each genre profit\n",
        "profit.sort_values(ascending=False).plot(kind='bar');\n",
        "plt.xlabel('genres',fontsize=15);\n",
        "plt.ylabel('profit',fontsize=15);\n",
        "plt.title('profit of genres',fontsize=20)\n",
        "plt.show()"
      ],
      "execution_count": null,
      "outputs": [
        {
          "output_type": "display_data",
          "data": {
            "image/png": "[encoded data removed]",
            "text/plain": [
              "<Figure size 432x288 with 1 Axes>"
            ]
          },
          "metadata": {
            "tags": [],
            "needs_background": "light"
          }
        }
      ]
    },
    {
      "cell_type": "markdown",
      "metadata": {
        "id": "uyTooCMTzdZD"
      },
      "source": [
        "and this plot shows us that: \n",
        "**adventure** movies is the most **profitable** genre of movies\n",
        "\n",
        "and this make some sense , since this is the most **popular** genre"
      ]
    },
    {
      "cell_type": "markdown",
      "metadata": {
        "id": "0SgXbDrAGvwP"
      },
      "source": [
        "<a id='conclusions'></a>\n",
        "## Conclusions"
      ]
    },
    {
      "cell_type": "markdown",
      "metadata": {
        "id": "B7A9t4iY8dBc"
      },
      "source": [
        "**Results:**\n",
        "\n",
        "1.   **Research Question 1 (Does runtime related to votes!):**<br>\n",
        "runtime is ***reverse*** related to vote_average\n",
        "2.   **Research Question 2 (which genre has most poopurality):** <br>\n",
        "as we can see *'adventure'* genre is the most popular\n",
        "3. **Question 3  (which genre has most profit):**<br>\n",
        "also *'adventure'* genre has the max profit\n",
        "\n",
        "**Limitation:**\n",
        "There are a couple of limitations with our data:\n",
        "1. Most of our variables are categorical, which does not allow for a high level of statistical method that can be used to provide correlations etc\n",
        "2. The statistics used here are descriptive statistics, not inferential, meaning that we did not create any hypotheses or controlled experiments or\n",
        "inferences with our data.\n",
        "3. there are multivalue attributes , which make it difficult to analyse this attributes together and find corelation.\n",
        "4. Cannot show strong correlations between factors since most of our data is categorical.\n"
      ]
    }
  ]
}